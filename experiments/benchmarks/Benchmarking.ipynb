{
 "cells": [
  {
   "cell_type": "markdown",
   "id": "f9f457e1",
   "metadata": {},
   "source": [
    "# Benchmarking Models\n",
    "\n",
    "This notebook demonstrates how benchmarking can be done on pytorch models using trailmet\n",
    "\n",
    "## Steps\n",
    "- Create `ModelBenchmark` object and pass the model along with some testing parameters (batch_size, input_size, etc)\n",
    "- Run the script using `benchmark()` method to receive numbers"
   ]
  },
  {
   "cell_type": "code",
   "execution_count": 1,
   "id": "2b8badbf",
   "metadata": {},
   "outputs": [],
   "source": [
    "import sys\n",
    "sys.path.append(\"../../\")\n",
    "\n",
    "import torch\n",
    "\n",
    "from trailmet.models.resnet import get_resnet_model\n",
    "from trailmet.models.mobilenet import get_mobilenet\n",
    "from trailmet.utils.benchmark import ModelBenchmark"
   ]
  },
  {
   "cell_type": "markdown",
   "id": "1b88f33d",
   "metadata": {},
   "source": [
    "## Benchmarking ResNets"
   ]
  },
  {
   "cell_type": "code",
   "execution_count": 2,
   "id": "a05c2db1",
   "metadata": {},
   "outputs": [
    {
     "name": "stderr",
     "output_type": "stream",
     "text": [
      "[codecarbon INFO @ 15:07:17] offline tracker init\n"
     ]
    },
    {
     "name": "stdout",
     "output_type": "stream",
     "text": [
      "ResNet\n",
      "--------\n",
      "Number of parameters: 23705252\n",
      "Model size: 90.63 MB\n",
      "Model FLOPs: 1479196772\n",
      "Throughput: 5483.76 img/s\n",
      "Peak GPU Memory Utilization: 561.91 MB\n",
      "Energy Consumption: 0.000047768 kWh\n"
     ]
    }
   ],
   "source": [
    "model_1 = get_resnet_model('resnet50', 100, 32, False)\n",
    "benchmark_1 = ModelBenchmark(model_1, batch_size=64, input_size=32, device_name='cuda:0')\n",
    "_ = benchmark_1.benchmark()"
   ]
  },
  {
   "cell_type": "markdown",
   "id": "a7f7f095",
   "metadata": {},
   "source": [
    "## Benchmarking MobileNets"
   ]
  },
  {
   "cell_type": "code",
   "execution_count": 3,
   "id": "65dba28f",
   "metadata": {},
   "outputs": [
    {
     "name": "stdout",
     "output_type": "stream",
     "text": [
      "MobileNetv2\n",
      "-------------\n",
      "Number of parameters: 881714\n",
      "Model size: 3.43 MB\n",
      "Model FLOPs: 2750928\n",
      "Throughput: 10240.35 img/s\n",
      "Peak GPU Memory Utilization: 62.49 MB\n",
      "Energy Consumption: 0.000026849 kWh\n"
     ]
    }
   ],
   "source": [
    "cfg =  [(1,  10, 1, 1),\n",
    "        (6,  14, 1, 2),\n",
    "        (6,  19, 2, 2),\n",
    "        (6,  38, 3, 2),\n",
    "        (6,  58, 2, 1),\n",
    "        (6,  96, 2, 2),\n",
    "        (6, 192, 1, 1)]\n",
    "model_2 = get_mobilenet('mobilenetv2', 100, cfg)\n",
    "benchmark_2 = ModelBenchmark(model_2, batch_size=64, input_size=32, device_name='cuda:0')\n",
    "_ = benchmark_2.benchmark()"
   ]
  },
  {
   "cell_type": "code",
   "execution_count": null,
   "id": "d4efb713",
   "metadata": {},
   "outputs": [],
   "source": []
  }
 ],
 "metadata": {
  "kernelspec": {
   "display_name": "Python 3 (ipykernel)",
   "language": "python",
   "name": "python3"
  },
  "language_info": {
   "codemirror_mode": {
    "name": "ipython",
    "version": 3
   },
   "file_extension": ".py",
   "mimetype": "text/x-python",
   "name": "python",
   "nbconvert_exporter": "python",
   "pygments_lexer": "ipython3",
   "version": "3.8.10"
  }
 },
 "nbformat": 4,
 "nbformat_minor": 5
}
